{
  "nbformat": 4,
  "nbformat_minor": 0,
  "metadata": {
    "colab": {
      "provenance": [],
      "authorship_tag": "ABX9TyOHDe8DbCmZSgBwjgSeaVbq",
      "include_colab_link": true
    },
    "kernelspec": {
      "name": "python3",
      "display_name": "Python 3"
    },
    "language_info": {
      "name": "python"
    }
  },
  "cells": [
    {
      "cell_type": "markdown",
      "metadata": {
        "id": "view-in-github",
        "colab_type": "text"
      },
      "source": [
        "<a href=\"https://colab.research.google.com/github/stud0000299683/programming_on_py/blob/main/HW8.ipynb\" target=\"_parent\"><img src=\"https://colab.research.google.com/assets/colab-badge.svg\" alt=\"Open In Colab\"/></a>"
      ]
    },
    {
      "cell_type": "markdown",
      "source": [
        "Цель: разработать систему, которая будет формировать описания покупателей на основе характеристик, представленных в файле.\n",
        "На входе — CSV-файл с характеристиками покупателей.\n",
        "На выходе — TXT-файл с описаниями.\n",
        "\n",
        "Шаги:\n",
        "\n",
        "Загрузить CSV-файл.\n",
        "Выполнить парсинг (извлечение атрибутов из структурированного текста).\n",
        "Преобразовать данные (при необходимости).\n",
        "Сформировать текстовое описание по шаблону.\n",
        "Записать в единый TXT-файл.\n",
        "Пример строки на входе:\n",
        "ФИО: Allen Miss. Elisabeth Walton\n",
        "Пол: female\n",
        "Возраст: 29\n",
        "Устройство, с которого выполнялась покупка: mobile\n",
        "Браузер: Chrome\n",
        "Сумма чека: 885\n",
        "Регион покупки: St Louis: MO\n",
        "\n",
        "Пример строки на выходе:\n",
        "Пользователь Allen Miss. Elisabeth Walton женского пола, 29 лет совершила покупку на 885 у.е. с мобильного браузера Chrome. Регион, из которого совершалась покупка: St Louis: MO."
      ],
      "metadata": {
        "id": "cuODVyA7_8Gp"
      }
    },
    {
      "cell_type": "code",
      "execution_count": null,
      "metadata": {
        "id": "OKnzGG1i_yva"
      },
      "outputs": [],
      "source": [
        "import csv\n",
        "import os\n",
        "\n",
        "class WorkShop:\n",
        "    def __init__(self):\n",
        "        self.file_input = 'web_clients_correct.csv'\n",
        "        self.file_output = 'web_clients.txt'\n",
        "\n",
        "    \"\"\"Метод читающий данные из файла\"\"\"\n",
        "    def read_csv(self):\n",
        "        with open(self.file_input, encoding='utf8') as f:\n",
        "            reader = csv.DictReader(f)\n",
        "            data = list(reader)\n",
        "            return data\n",
        "\n",
        "    \"\"\"Метод парсинга данных. В конце вызываем метод write_txt для записи данных в файл txt\"\"\"\n",
        "    def parce_data(self, data):\n",
        "        if os.path.exists(self.file_output):\n",
        "            os.remove(self.file_output)\n",
        "        for i in data:\n",
        "            self.name = i['name']\n",
        "            if i['sex'] == 'female':\n",
        "                self.sex = 'женского пола'\n",
        "            elif i['sex'] == 'male':\n",
        "                self.sex = 'мужского пола'\n",
        "            self.age = i['age']\n",
        "            self.summ = i['bill']\n",
        "            self.browser = i['browser']\n",
        "            self.region = i['region']\n",
        "            info = f'Пользователь {self.name} {self.sex}, {self.age} лет совершила покупку на {self.summ} у.е с мобильного браузера {self.browser}. Регион, из которого совершалась покупка: {self.region}'\n",
        "            self.write_txt(info)\n",
        "\n",
        "    \"\"\"Метод записи в файл\"\"\"\n",
        "    def write_txt(self, data):\n",
        "        with open(self.file_output, 'a', newline='', encoding='utf8') as file:\n",
        "            file.write(data + '\\n')\n",
        "\n",
        "\n",
        "if __name__ == '__main__':\n",
        "    get_work = WorkShop()\n",
        "    my_data = get_work.read_csv()\n",
        "    get_work.parce_data(my_data)\n"
      ]
    },
    {
      "cell_type": "markdown",
      "source": [
        "# Новый раздел"
      ],
      "metadata": {
        "id": "M0dbSEh1AMt4"
      }
    }
  ]
}