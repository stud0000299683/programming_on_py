{
  "nbformat": 4,
  "nbformat_minor": 0,
  "metadata": {
    "colab": {
      "provenance": [],
      "toc_visible": true,
      "authorship_tag": "ABX9TyNW6r7jaahN+p3VmnQYfFaN",
      "include_colab_link": true
    },
    "kernelspec": {
      "name": "python3",
      "display_name": "Python 3"
    },
    "language_info": {
      "name": "python"
    }
  },
  "cells": [
    {
      "cell_type": "markdown",
      "metadata": {
        "id": "view-in-github",
        "colab_type": "text"
      },
      "source": [
        "<a href=\"https://colab.research.google.com/github/stud0000299683/programming_on_py/blob/main/hanoy_towers.ipynb\" target=\"_parent\"><img src=\"https://colab.research.google.com/assets/colab-badge.svg\" alt=\"Open In Colab\"/></a>"
      ]
    },
    {
      "cell_type": "markdown",
      "source": [
        "Задание: Напишите программу, которая решает головоломку «Ханойская башня» для\n",
        "заданного количества дисков\n",
        "Условия:\n",
        "Программа должна принимать на вход количество дисков и выводить на экран\n",
        "последовательность ходов, необходимых для перемещения всех дисков с первого стержня\n",
        "на третий стержень, соблюдая правила головоломки:\n",
        "\n",
        "● За один ход можно переместить только один диск\n",
        "\n",
        "● Нельзя класть больший диск на меньший\n",
        "\n",
        "Программа должна быть реализована с использованием рекурсии\n"
      ],
      "metadata": {
        "id": "ydRTLXHXKVpa"
      }
    },
    {
      "cell_type": "code",
      "execution_count": 2,
      "metadata": {
        "colab": {
          "base_uri": "https://localhost:8080/"
        },
        "id": "grAbBWyGG90i",
        "outputId": "19686a2c-78af-44ef-aa17-ba2a1082e48b"
      },
      "outputs": [
        {
          "output_type": "stream",
          "name": "stdout",
          "text": [
            "Введите количество дисков: 3\n",
            "Перемещаем диск 1 сo стержня 1 на стержень 3\n",
            "Перемещаем диск 2 со стержня 1 на стержень 2\n",
            "Перемещаем диск 1 сo стержня 3 на стержень 2\n",
            "Перемещаем диск 3 со стержня 1 на стержень 3\n",
            "Перемещаем диск 1 сo стержня 2 на стержень 1\n",
            "Перемещаем диск 2 со стержня 2 на стержень 3\n",
            "Перемещаем диск 1 сo стержня 1 на стержень 3\n",
            "Количество операций для перемещения всех дисков со стержня 1 на стержень 3 будет равно 7\n"
          ]
        }
      ],
      "source": [
        "def hanoi_towers(n,from_data=1, to_data=3):\n",
        "\n",
        "    if n == 1:\n",
        "        print(f\"Перемещаем диск {n} сo стержня {from_data} на стержень {to_data}\")\n",
        "        return\n",
        "    # from_data +temp_data +to_data = 6 определяем таким образом какой стержень является темповым\n",
        "    temp_data = 6 - (from_data + to_data)\n",
        "    hanoi_towers(n-1,from_data,temp_data)\n",
        "    print(f\"Перемещаем диск {n} со стержня {from_data} на стержень {to_data}\")\n",
        "    hanoi_towers(n-1,temp_data,to_data)\n",
        "    # Кол-во шагов вычисляем по формуле 2**n-1\n",
        "    count = 2**n-1\n",
        "    return f\"Количество операций для перемещения всех дисков со стержня 1 на стержень 3 будет равно {count}\"\n",
        "\n",
        "numbers_of_disc = int(input(\"Введите количество дисков: \"))\n",
        "print(hanoi_towers(numbers_of_disc))\n"
      ]
    }
  ]
}