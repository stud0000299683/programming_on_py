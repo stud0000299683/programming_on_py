{
  "nbformat": 4,
  "nbformat_minor": 0,
  "metadata": {
    "colab": {
      "provenance": [],
      "authorship_tag": "ABX9TyO7wCMA/HsQw7J9lVdxAhuD",
      "include_colab_link": true
    },
    "kernelspec": {
      "name": "python3",
      "display_name": "Python 3"
    },
    "language_info": {
      "name": "python"
    }
  },
  "cells": [
    {
      "cell_type": "markdown",
      "metadata": {
        "id": "view-in-github",
        "colab_type": "text"
      },
      "source": [
        "<a href=\"https://colab.research.google.com/github/stud0000299683/programming_on_py/blob/main/Convert_csv_to_json.ipynb\" target=\"_parent\"><img src=\"https://colab.research.google.com/assets/colab-badge.svg\" alt=\"Open In Colab\"/></a>"
      ]
    },
    {
      "cell_type": "code",
      "execution_count": null,
      "metadata": {
        "id": "B8rEajqpxNNp"
      },
      "outputs": [],
      "source": [
        "import json\n",
        "import csv\n",
        "\n",
        "file_name = 'example.csv'\n",
        "\n",
        "\n",
        "def create_csv(file_name):\n",
        "    with open(f'{file_name}', 'w', newline='', encoding='utf8') as file:\n",
        "        writer = csv.writer(file)\n",
        "\n",
        "        # Записываем заголовок таблицы\n",
        "        writer.writerow(['Имя', 'Возраст', 'Профессия', 'Город'])\n",
        "\n",
        "        # Записываем данные\n",
        "        writer.writerow(['Иван', 30, 'учитель','Санкт-Петербург'])\n",
        "        writer.writerow(['Анна', 25, 'инженер', 'Москва'])\n",
        "        writer.writerow(['Максим', 27, 'программист', 'Екатеринбург'])\n",
        "        writer.writerow(['Ольга', 26, 'дизайнер', 'Краснодар'])\n",
        "        writer.writerow(['Елена', 28, 'врач', 'Новосибирск'])\n",
        "\n",
        "\n",
        "if __name__ =='__main__':\n",
        "    # Создаем файл из процедуры\n",
        "    create_csv(file_name)\n",
        "\n",
        "    # читаем файл\n",
        "    with open('example.csv', encoding='utf8') as f:\n",
        "        reader = csv.DictReader(f)\n",
        "        rows = list(reader)\n",
        "    # пишем в файл json\n",
        "    with open('example.json', 'w', encoding='utf8') as f:\n",
        "        json.dump(rows, f)\n",
        "    # Читаем Json\n",
        "    with open('example.json', encoding='utf8') as f:\n",
        "        print(json.load(f))"
      ]
    }
  ]
}