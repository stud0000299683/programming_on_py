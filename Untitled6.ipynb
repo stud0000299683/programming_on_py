{
  "nbformat": 4,
  "nbformat_minor": 0,
  "metadata": {
    "colab": {
      "provenance": [],
      "authorship_tag": "ABX9TyONUGtgrL5q4UgO7nLQT39/",
      "include_colab_link": true
    },
    "kernelspec": {
      "name": "python3",
      "display_name": "Python 3"
    },
    "language_info": {
      "name": "python"
    }
  },
  "cells": [
    {
      "cell_type": "markdown",
      "metadata": {
        "id": "view-in-github",
        "colab_type": "text"
      },
      "source": [
        "<a href=\"https://colab.research.google.com/github/stud0000299683/programming_on_py/blob/main/Untitled6.ipynb\" target=\"_parent\"><img src=\"https://colab.research.google.com/assets/colab-badge.svg\" alt=\"Open In Colab\"/></a>"
      ]
    },
    {
      "cell_type": "markdown",
      "source": [
        "Задание 1\n",
        "Печатные газеты использовали свой формат дат для каждого выпуска. Для каждой газеты из списка напишите формат указанной даты для перевода в объект datetime:\n",
        "The Moscow Times — Wednesday, October 2, 2002\n",
        "The Guardian — Friday, 11.10.13\n",
        "Daily News — Thursday, 18 August 1977\n",
        "\n",
        "Пример работы программы\n",
        "\n",
        "Программа должна выводить на экран объекты типа datetime, соответствующие датам в условии задачи.\n",
        "Также программа должна работать итерационно, а именно: принимать входные данные до момента ввода специального символа завершения программы.\n",
        "Если введённое значение не соответствует ни одному формату, то следует продолжать выполнение программы, переходя на следующую итерацию.\n",
        "Безопасный переход следует реализовать с помощью механизма исключений."
      ],
      "metadata": {
        "id": "rIUdAUHg9O2k"
      }
    },
    {
      "cell_type": "code",
      "execution_count": null,
      "metadata": {
        "id": "oElfVgB79L5-"
      },
      "outputs": [],
      "source": [
        "from _datetime import datetime as dt\n",
        "\n",
        "'''Функция проверки кооректности введенной даты. '''\n",
        "\n",
        "\n",
        "def check_date_format(date):\n",
        "    try:\n",
        "        dt.strptime(date, '%Y-%m-%d')\n",
        "        return True\n",
        "    except:\n",
        "        return False\n",
        "\n",
        "\n",
        "while True:\n",
        "\n",
        "    '''Вводим дату в формате yyyy.mm.dd например 2022.01.10'''\n",
        "    try:\n",
        "        my_date = input('Введите дату в формате yyyy.mm.dd: ')\n",
        "        if my_date == 'q':\n",
        "            break\n",
        "        elif check_date_format(my_date):\n",
        "            my_date = dt.strptime(my_date, '%Y-%m-%d')\n",
        "            print('Moscow Times ', my_date.strftime('%A, %B %d, %Y'))\n",
        "            print('The Guardian ', my_date.strftime('%A, %d.%m.%y'))\n",
        "            print('Daily news ', my_date.strftime('%A, %d %B %Y'))\n",
        "        else:\n",
        "            print('Некорректный формат введи еще раз. \\n Для выхода введи q')\n",
        "    except:\n",
        "        print('Err')\n"
      ]
    },
    {
      "cell_type": "code",
      "source": [
        "'''Переводим дату из форматов газет в формат datetime'''\n",
        "moscow_times_format = dt.strptime(\"Wednesday, October 2, 2002\", \"%A, %B %d, %Y\")\n",
        "guardian_format = dt.strptime('Friday, 11.10.13', '%A, %d.%m.%y')\n",
        "daily_news_format = dt.strptime('Thursday, 18 August 1977', '%A, %d %B %Y')\n",
        "\n",
        "print('Moscow Times ', moscow_times_format, type(moscow_times_format))\n",
        "print('the Guardian ', guardian_format, type(moscow_times_format))\n",
        "print('Daily news ', daily_news_format, type(moscow_times_format))\n"
      ],
      "metadata": {
        "id": "k9aUchGf9unQ"
      },
      "execution_count": null,
      "outputs": []
    },
    {
      "cell_type": "code",
      "source": [
        "from datetime import datetime as dt\n",
        "from datetime import date, timedelta\n",
        "\n",
        "\n",
        "\n",
        "def check_date_format(date):\n",
        "    '''Функция проверки кооректности введенной даты. '''\n",
        "    try:\n",
        "        dt.strptime(date, '%Y-%m-%d')\n",
        "        return True\n",
        "    except:\n",
        "        return False\n",
        "\n",
        "\n",
        "def result(my_date):\n",
        "    '''Вывод результата'''\n",
        "    print('Moscow Times ', my_date.strftime('%A, %B %d, %Y'))\n",
        "    print('The Guardian ', my_date.strftime('%A, %d.%m.%y'))\n",
        "    print('Daily news ', my_date.strftime('%A, %d %B %Y'))\n",
        "\n",
        "\n",
        "def paper_news(dates=0):\n",
        "    '''Основной рабочий скрипт'''\n",
        "    while True:\n",
        "        try:\n",
        "            if dates == 0:\n",
        "                '''Вводим дату в формате yyyy.mm.dd например 2022.01.10'''\n",
        "                my_date = input('Введите дату в формате yyyy.mm.dd: ')\n",
        "                if my_date == 'q':\n",
        "                    break\n",
        "                elif check_date_format(my_date):\n",
        "                    my_date = dt.strptime(my_date, '%Y-%m-%d')\n",
        "                    result(my_date)\n",
        "                else:\n",
        "                    print('Некорректный формат введи еще раз. \\n Для выхода введи q')\n",
        "\n",
        "            else:\n",
        "                for d in dates:\n",
        "                    try:\n",
        "                        check_date_format(d)\n",
        "                        my_date = d\n",
        "                        result(my_date)\n",
        "                    except:\n",
        "                        print(f' {d}  не корректная')\n",
        "                break\n",
        "        except:\n",
        "            print('Err')\n",
        "\n",
        "\n",
        "def daterange(from_date, to_date):\n",
        "    '''Для создани списка дат'''\n",
        "    dates = []\n",
        "    count = 0\n",
        "    for n in range(int((to_date - from_date).days)):\n",
        "        dates.append(from_date + timedelta(n))\n",
        "        count += 1\n",
        "        if count == 10:\n",
        "            dates.append('2023.13.18')\n",
        "        if count == 4:\n",
        "            dates.append('2023.10.38')\n",
        "\n",
        "    return dates\n",
        "\n",
        "\n",
        "if __name__ == '__main__':\n",
        "\n",
        "    paper_news()\n",
        "\n",
        "    start_date = date(2022, 5, 1)\n",
        "    end_date = date(2022, 6, 10)\n",
        "    dd = daterange(start_date, end_date)\n",
        "    paper_news(dd)\n"
      ],
      "metadata": {
        "id": "CvgNEETVHSSB"
      },
      "execution_count": null,
      "outputs": []
    }
  ]
}