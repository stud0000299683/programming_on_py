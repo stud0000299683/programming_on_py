{
  "nbformat": 4,
  "nbformat_minor": 0,
  "metadata": {
    "colab": {
      "provenance": [],
      "authorship_tag": "ABX9TyMyUjEzmPpfMQWXRGmgAA5k",
      "include_colab_link": true
    },
    "kernelspec": {
      "name": "python3",
      "display_name": "Python 3"
    },
    "language_info": {
      "name": "python"
    }
  },
  "cells": [
    {
      "cell_type": "markdown",
      "metadata": {
        "id": "view-in-github",
        "colab_type": "text"
      },
      "source": [
        "<a href=\"https://colab.research.google.com/github/stud0000299683/programming_on_py/blob/main/parce_file.ipynb\" target=\"_parent\"><img src=\"https://colab.research.google.com/assets/colab-badge.svg\" alt=\"Open In Colab\"/></a>"
      ]
    },
    {
      "cell_type": "code",
      "execution_count": null,
      "metadata": {
        "id": "CZfDd4EsGBYL"
      },
      "outputs": [],
      "source": [
        "x = []\n",
        "def get_element(data, name):\n",
        "    len_data=len(data)\n",
        "    info = data[data.find(':', data.find(f'{name}',0,len_data))+3:]\n",
        "    my_data = info[:info.find('\"',1,len_data)]\n",
        "    return my_data\n",
        "\n",
        "with open('purchase_log.txt', encoding='utf-8') as f:\n",
        "    while True:\n",
        "        data = f.readline()\n",
        "        if not data:\n",
        "            break\n",
        "        # print(get_element(data, '\"user_id\"'))\n",
        "        my_dict = {}\n",
        "        my_dict['user_id'] = str(get_element(data, '\"user_id\"'))\n",
        "        # print(get_element(data, '\"category\"'))\n",
        "        my_dict['category'] = str(get_element(data, '\"category\"'))\n",
        "        x.append(my_dict)\n",
        "print(x)\n",
        "for i in x:\n",
        "    print(i['user_id'], i['category'])\n"
      ]
    }
  ]
}