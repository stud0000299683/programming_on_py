{
  "nbformat": 4,
  "nbformat_minor": 0,
  "metadata": {
    "colab": {
      "provenance": [],
      "authorship_tag": "ABX9TyP2Ub9KsNQTSsGb0+4ZbCpl",
      "include_colab_link": true
    },
    "kernelspec": {
      "name": "python3",
      "display_name": "Python 3"
    },
    "language_info": {
      "name": "python"
    }
  },
  "cells": [
    {
      "cell_type": "markdown",
      "metadata": {
        "id": "view-in-github",
        "colab_type": "text"
      },
      "source": [
        "<a href=\"https://colab.research.google.com/github/stud0000299683/programming_on_py/blob/main/secretar.ipynb\" target=\"_parent\"><img src=\"https://colab.research.google.com/assets/colab-badge.svg\" alt=\"Open In Colab\"/></a>"
      ]
    },
    {
      "cell_type": "markdown",
      "source": [
        "Задание\n",
        "Написать код на Python в среде Jupyter Notebook для решения следующей задачи.\n",
        "\n",
        "Вам нужно помочь секретарю автоматизировать работу. Для этого нужно написать программу, которая будет на основе хранимых данных исполнять пользовательские команды.\n",
        "​\n",
        "Исходные данные имеют следующую структуру:\n",
        "​\n",
        "1. перечень всех документов\n",
        "​\n",
        "documents = [\n",
        "{‘type’: ‘passport’, ‘number’: ‘2207 876234’, ‘name’: ‘Василий Гупкин’},\n",
        "{‘type’: ‘invoice’, ‘number’: ‘11-2’, ‘name’: ‘Геннадий Покемонов’},\n",
        "{‘type’: ‘insurance’, ‘number’: ‘10006’, ‘name’: ‘Аристарх Павлов’}\n",
        "]\n",
        "​\n",
        "2. перечень полок, на которых хранятся документы (если документ есть в documents, он обязательно должен быть и в directories)\n",
        "​\n",
        "directories = {\n",
        "‘1’: [‘2207 876234’, ‘11-2’],\n",
        "‘2’: [‘10006’],\n",
        "‘3’: []\n",
        "}\n",
        "​\n",
        "Общие требования к программе:\n",
        "​\n",
        "\n",
        "код должен быть грамотно декомпозирован: каждая функция отвечает за свою конкретную задачу, дублирующиеся функции переиспользуются, а их код не повторяется;\n",
        "в коде отсутствуют глобальные переменные, за исключением documents и directories;\n",
        "пользовательский ввод обрабатывается в цикле while до тех пор, пока пользователь явно не завершит программу вводом команды q.\n",
        "Задача 1\n",
        "Пользователь по команде p может узнать владельца документа по его номеру.\n",
        "\n",
        "Пример работы программы:\n",
        "​\n",
        "Введите команду:\n",
        "p\n",
        "​\n",
        "Введите номер документа:\n",
        "10006\n",
        "​\n",
        "Результат:\n",
        "Владелец документа: Аристарх Павлов\n"
      ],
      "metadata": {
        "id": "Bup-16HbrAml"
      }
    },
    {
      "cell_type": "code",
      "execution_count": null,
      "metadata": {
        "id": "z6_cRSu7q_9k"
      },
      "outputs": [],
      "source": [
        "user_info =  [ {'type': 'passport', 'number': '2207 876234', 'name': 'Василий Гупкин'}, {'type': 'invoice', 'number': '11-2', 'name': 'Геннадий Покемонов'}, {'type': 'insurance', 'number': '10006', 'name': 'Аристарх Павлов'} ]​"
      ]
    },
    {
      "cell_type": "markdown",
      "source": [
        "Задача 2 (необязательная)\n",
        "Секретарь по команде s может по номеру документа узнать, на какой полке документ хранится.\n",
        "\n",
        "Пример работы программы:\n",
        "Введите команду:\n",
        "s\n",
        "​\n",
        "Введите номер документа:\n",
        "10006\n",
        "​\n",
        "Результат:\n",
        "Документ хранится на полке: 2"
      ],
      "metadata": {
        "id": "DtxlpkQJrKUh"
      }
    },
    {
      "cell_type": "code",
      "source": [
        "import sys\n",
        "\n",
        "documents =  [\n",
        "    {'type': 'passport', 'number': '2207 876234', 'name': 'Василий Гупкин'},\n",
        "    {'type': 'invoice', 'number': '11-2', 'name': 'Геннадий Покемонов'},\n",
        "    {'type': 'insurance', 'number': '10006', 'name': 'Аристарх Павлов'} ]\n",
        "\n",
        "directories = { '1': ['2207 876234'], '2': ['10006'], '3': ['11-2'] }\n",
        "\n",
        "\n",
        "\n",
        "command = 'p'\n",
        "\n",
        "\n",
        "def finder(command, number):\n",
        "    if command == 'p':\n",
        "\n",
        "        for i in documents:\n",
        "            if i['number'] == number:\n",
        "                return f\"Владелец документа: {i['name']}\"\n",
        "    elif command == 's':\n",
        "        for i in directories:\n",
        "            for z in directories[i]:\n",
        "                if z == number:\n",
        "                    keys = [key for key, value in directories.items() if value == directories[i]]\n",
        "                    return f\"Документ хранится на полке: {keys[0]}\"\n",
        "\n",
        "\n",
        "\n",
        "if __name__ == '__main__':\n",
        "    while True:\n",
        "        command = input('Введите команду: ')\n",
        "        if command == 'e':\n",
        "            sys.exit(1)\n",
        "        number = input('Введите номер документа: ')\n",
        "        if command == 'e':\n",
        "            sys.exit(1)\n",
        "        result = finder(command, number)\n",
        "        print(result)\n",
        "\n"
      ],
      "metadata": {
        "colab": {
          "base_uri": "https://localhost:8080/",
          "height": 175
        },
        "id": "nCRkAlr2299q",
        "outputId": "de1ec378-4044-4f0a-e6f0-73326027264e"
      },
      "execution_count": 1,
      "outputs": [
        {
          "name": "stdout",
          "output_type": "stream",
          "text": [
            "Введите команду: e\n"
          ]
        },
        {
          "output_type": "error",
          "ename": "SystemExit",
          "evalue": "ignored",
          "traceback": [
            "An exception has occurred, use %tb to see the full traceback.\n",
            "\u001b[0;31mSystemExit\u001b[0m\n"
          ]
        },
        {
          "output_type": "stream",
          "name": "stderr",
          "text": [
            "/usr/local/lib/python3.10/dist-packages/IPython/core/interactiveshell.py:3561: UserWarning: To exit: use 'exit', 'quit', or Ctrl-D.\n",
            "  warn(\"To exit: use 'exit', 'quit', or Ctrl-D.\", stacklevel=1)\n"
          ]
        }
      ]
    }
  ]
}